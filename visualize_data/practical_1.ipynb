{
 "cells": [
  {
   "cell_type": "code",
   "execution_count": 1,
   "metadata": {},
   "outputs": [],
   "source": [
    "import pandas as pd\n",
    "import numpy as np\n",
    "import scipy.stats as st\n",
    "import matplotlib.pyplot as plt\n",
    "import math\n",
    "\n",
    "np.random.seed(12345)\n",
    "\n",
    "df = pd.DataFrame([np.random.normal(32000,200000,3650), \n",
    "                   np.random.normal(43000,100000,3650), \n",
    "                   np.random.normal(43500,140000,3650), \n",
    "                   np.random.normal(48000,70000,3650)], \n",
    "                  index=[1992,1993,1994,1995])\n",
    "df = df\n",
    "ds = df.T.describe().T"
   ]
  },
  {
   "cell_type": "code",
   "execution_count": 2,
   "metadata": {},
   "outputs": [
    {
     "data": {
      "text/html": [
       "<div>\n",
       "<style scoped>\n",
       "    .dataframe tbody tr th:only-of-type {\n",
       "        vertical-align: middle;\n",
       "    }\n",
       "\n",
       "    .dataframe tbody tr th {\n",
       "        vertical-align: top;\n",
       "    }\n",
       "\n",
       "    .dataframe thead th {\n",
       "        text-align: right;\n",
       "    }\n",
       "</style>\n",
       "<table border=\"1\" class=\"dataframe\">\n",
       "  <thead>\n",
       "    <tr style=\"text-align: right;\">\n",
       "      <th></th>\n",
       "      <th>count</th>\n",
       "      <th>mean</th>\n",
       "      <th>std</th>\n",
       "      <th>min</th>\n",
       "      <th>25%</th>\n",
       "      <th>50%</th>\n",
       "      <th>75%</th>\n",
       "      <th>max</th>\n",
       "    </tr>\n",
       "  </thead>\n",
       "  <tbody>\n",
       "    <tr>\n",
       "      <th>1992</th>\n",
       "      <td>3650.0</td>\n",
       "      <td>33312.107476</td>\n",
       "      <td>200630.901553</td>\n",
       "      <td>-717071.175466</td>\n",
       "      <td>-102740.398364</td>\n",
       "      <td>29674.931050</td>\n",
       "      <td>167441.838695</td>\n",
       "      <td>817505.608159</td>\n",
       "    </tr>\n",
       "    <tr>\n",
       "      <th>1993</th>\n",
       "      <td>3650.0</td>\n",
       "      <td>41861.859541</td>\n",
       "      <td>98398.356203</td>\n",
       "      <td>-321586.023683</td>\n",
       "      <td>-26628.302213</td>\n",
       "      <td>43001.976658</td>\n",
       "      <td>108296.577923</td>\n",
       "      <td>395586.505068</td>\n",
       "    </tr>\n",
       "    <tr>\n",
       "      <th>1994</th>\n",
       "      <td>3650.0</td>\n",
       "      <td>39493.304941</td>\n",
       "      <td>140369.925240</td>\n",
       "      <td>-450827.613097</td>\n",
       "      <td>-57436.397393</td>\n",
       "      <td>41396.781369</td>\n",
       "      <td>137261.713785</td>\n",
       "      <td>490091.665037</td>\n",
       "    </tr>\n",
       "    <tr>\n",
       "      <th>1995</th>\n",
       "      <td>3650.0</td>\n",
       "      <td>47743.550969</td>\n",
       "      <td>69781.185469</td>\n",
       "      <td>-189865.963265</td>\n",
       "      <td>1774.555612</td>\n",
       "      <td>49404.322978</td>\n",
       "      <td>94164.333867</td>\n",
       "      <td>320826.888044</td>\n",
       "    </tr>\n",
       "  </tbody>\n",
       "</table>\n",
       "</div>"
      ],
      "text/plain": [
       "       count          mean            std            min            25%  \\\n",
       "1992  3650.0  33312.107476  200630.901553 -717071.175466 -102740.398364   \n",
       "1993  3650.0  41861.859541   98398.356203 -321586.023683  -26628.302213   \n",
       "1994  3650.0  39493.304941  140369.925240 -450827.613097  -57436.397393   \n",
       "1995  3650.0  47743.550969   69781.185469 -189865.963265    1774.555612   \n",
       "\n",
       "               50%            75%            max  \n",
       "1992  29674.931050  167441.838695  817505.608159  \n",
       "1993  43001.976658  108296.577923  395586.505068  \n",
       "1994  41396.781369  137261.713785  490091.665037  \n",
       "1995  49404.322978   94164.333867  320826.888044  "
      ]
     },
     "execution_count": 2,
     "metadata": {},
     "output_type": "execute_result"
    }
   ],
   "source": [
    "ds"
   ]
  },
  {
   "cell_type": "markdown",
   "metadata": {},
   "source": [
    "## EASIEST OPTION\n",
    " Implement the bar coloring as described above - a color scale with only three colors, (e.g. blue, white, and red). Assume the user provides the y axis value of interest as a parameter or variable."
   ]
  },
  {
   "cell_type": "markdown",
   "metadata": {},
   "source": [
    "#### Prepare data: Calculater mean, sdt and 95% confidence interval"
   ]
  },
  {
   "cell_type": "code",
   "execution_count": 3,
   "metadata": {},
   "outputs": [
    {
     "name": "stdout",
     "output_type": "stream",
     "text": [
      "mean:  [33312.10747554438, 41861.8595410734, 39493.304941398885, 47743.55096926708]\n",
      "std:  [200630.90155251988, 98398.3562033422, 140369.9252401649, 69781.18546914424]\n",
      "confidence:  [6508.897969970322, 3192.254313689031, 4553.902287088237, 2263.8517443103765]\n"
     ]
    }
   ],
   "source": [
    "mean = ds['mean'].to_list()\n",
    "std = ds['std'].to_list()\n",
    "\n",
    "print(\"mean: \", mean)\n",
    "print('std: ', std)\n",
    "\n",
    "confidence = []\n",
    "for i in range(len(std)):\n",
    "    confidence.append(1.96*(std[i])/math.sqrt(len(df.columns)))\n",
    "\n",
    "print(\"confidence: \", confidence)"
   ]
  },
  {
   "cell_type": "markdown",
   "metadata": {},
   "source": [
    "#### Get color map"
   ]
  },
  {
   "cell_type": "code",
   "execution_count": 5,
   "metadata": {},
   "outputs": [
    {
     "name": "stdout",
     "output_type": "stream",
     "text": [
      "['blue', 'white', 'white', 'red']\n"
     ]
    }
   ],
   "source": [
    "def colorForBar(mean, threshold, confidence):\n",
    "    if (mean - confidence) < threshold and (mean + confidence) >= threshold:\n",
    "        return 'white'\n",
    "\n",
    "    if mean < threshold:\n",
    "        return 'blue'\n",
    "\n",
    "    if mean > threshold:\n",
    "        return 'red'\n",
    "\n",
    "colors = []\n",
    "threshold = 42000\n",
    "for i in range(len(mean)):\n",
    "    colors.append(colorForBar(mean[i], threshold, confidence[i]))\n",
    "\n",
    "print(colors)"
   ]
  },
  {
   "cell_type": "code",
   "execution_count": 8,
   "metadata": {},
   "outputs": [
    {
     "data": {
      "image/png": "[encoded data removed]",
      "text/plain": [
       "<Figure size 1000x500 with 1 Axes>"
      ]
     },
     "metadata": {},
     "output_type": "display_data"
    }
   ],
   "source": [
    "def plot_bar(mean, confidence, threshold, colors):\n",
    "    x = ['1992', '1993', '1994', '1995']\n",
    "\n",
    "    plt.figure(figsize=(10, 5))\n",
    "    plt.bar(x, mean, yerr=confidence, align='center', color=colors)\n",
    "    plt.axhline(y=threshold, color = 'green', alpha=0.5)\n",
    "\n",
    "    plt.text(3.65, threshold, 'y=%d' %threshold)\n",
    "    plt.xticks(x)\n",
    "    plt.xlabel('Year')\n",
    "    plt.ylabel(\"Mean Votes\")\n",
    "    plt.title('Average Votes per Year')\n",
    "    ax = plt.gca()\n",
    "    ax.set_facecolor('Lightgrey')\n",
    "\n",
    "plot_bar(mean, confidence, threshold, colors)"
   ]
  },
  {
   "cell_type": "markdown",
   "metadata": {},
   "source": [
    "### EVEN HARDER OPTION\n",
    " Add interactivity to the above, which allows the user to click on the y axis to set the value of interest. The bar colors should change with respect to what value the user has selected.\n",
    "#### Prepare data"
   ]
  },
  {
   "cell_type": "code",
   "execution_count": 9,
   "metadata": {},
   "outputs": [
    {
     "name": "stdout",
     "output_type": "stream",
     "text": [
      "<matplotlib.cm.ScalarMappable object at 0x000001D8A53EA160>\n"
     ]
    },
    {
     "name": "stderr",
     "output_type": "stream",
     "text": [
      "C:\\Users\\minhh\\AppData\\Local\\Temp\\ipykernel_7044\\4194703922.py:29: DeprecationWarning: Use of keyword argument `alpha` for method `interval` is deprecated. Use first positional argument or keyword argument `confidence` instead.\n",
      "  st.norm.interval(alpha=0.95, loc=mu, scale=se)\n",
      "C:\\Users\\minhh\\AppData\\Local\\Temp\\ipykernel_7044\\4194703922.py:64: MatplotlibDeprecationWarning: Unable to determine Axes to steal space for Colorbar. Using gca(), but will raise in the future. Either provide the *cax* argument to use as the Axes for the Colorbar, provide the *ax* argument to steal space from it, or add *mappable* to an Axes.\n",
      "  cbar = plt.colorbar(cpick, orientation=\"vertical\")  # \"horizontal\"\n"
     ]
    },
    {
     "data": {
      "text/plain": [
       "11"
      ]
     },
     "execution_count": 9,
     "metadata": {},
     "output_type": "execute_result"
    },
    {
     "data": {
      "image/png": "[encoded data removed]",
      "text/plain": [
       "<Figure size 640x480 with 2 Axes>"
      ]
     },
     "metadata": {},
     "output_type": "display_data"
    }
   ],
   "source": [
    "import pandas as pd\n",
    "import numpy as np\n",
    "import matplotlib.pyplot as plt\n",
    "import scipy.stats as st\n",
    "import matplotlib.colors as col\n",
    "import matplotlib.cm as cm\n",
    "\n",
    "np.random.seed(12345)\n",
    "\n",
    "df = pd.DataFrame([np.random.normal(32000,200000,3650), \n",
    "                   np.random.normal(43000,100000,3650), \n",
    "                   np.random.normal(43500,140000,3650), \n",
    "                   np.random.normal(48000,70000,3650)], \n",
    "                  index=[1992,1993,1994,1995])\n",
    "\n",
    "# Get the means and standard deviations\n",
    "df_mean = df.mean(axis=1)\n",
    "df_std = df.std(axis=1)\n",
    "\n",
    "n = df.shape[1]\n",
    "\n",
    "# y default\n",
    "mean = np.mean(df_mean.values)\n",
    "y = mean\n",
    "\n",
    "# Compute the 95% confidence intervals\n",
    "yerr = df_std / np.sqrt(n) * st.norm.ppf(1 - 0.05 / 2)\n",
    "conf_ints = [\n",
    "    st.norm.interval(alpha=0.95, loc=mu, scale=se)\n",
    "    for mu, se in zip(df_mean, df_std / np.sqrt(n))\n",
    "    ]\n",
    "# Compute the probablility of the mean > y for each column\n",
    "def compute_probs(y, conf_int):\n",
    "    if y < np.min(conf_int):\n",
    "        result = 1.0\n",
    "    elif y > np.max(conf_int):\n",
    "        result = 0.0\n",
    "    else:\n",
    "        result = (np.max(conf_int) - y) / (np.max(conf_int) - np.min(conf_int))\n",
    "    return result\n",
    "\n",
    "\n",
    "# Compute probabilities\n",
    "probs = [compute_probs(y, ci) for ci in conf_ints]\n",
    "\n",
    "# Setup the colormap\n",
    "cc = ['seismic', 'bwr', 'coolwarm']\n",
    "cmap = cm.get_cmap(cc[2])\n",
    "cpick = cm.ScalarMappable(cmap=cmap, norm=col.Normalize(vmin=0, vmax=1.0))\n",
    "cpick.set_array([])\n",
    "print(cpick)\n",
    "# Setup the plot\n",
    "plt.figure()\n",
    "bars = plt.bar(range(len(df)),\n",
    "               df_mean,\n",
    "#                width=1,\n",
    "               edgecolor='gray',\n",
    "               yerr=yerr,\n",
    "               alpha=0.8,\n",
    "               color=cpick.to_rgba(probs),\n",
    "               capsize=7)\n",
    "\n",
    "# Add the colorbar\n",
    "cbar = plt.colorbar(cpick, orientation=\"vertical\")  # \"horizontal\"\n",
    "\n",
    "# Turn off some plot rectangle spines\n",
    "[plt.gca().spines[loc].set_visible(False) for loc in ['top', 'right']]\n",
    "\n",
    "# Add the horizontal line\n",
    "hoz_line = plt.axhline(y=y, color='green', linewidth=1)\n",
    "\n",
    "# Set ticks and labels\n",
    "plt.title('Even Harder \\n Average Votes per Year')\n",
    "\n",
    "plt.xlabel('Year')\n",
    "plt.ylabel('Value')\n",
    "\n",
    "plt.xticks(range(len(df)), df.index)\n",
    "yt_o = plt.gca().get_yticks()\n",
    "yt = np.append(yt_o, y)\n",
    "plt.gca().set_yticks(yt)\n",
    "#y_text = plt.text(1.5, 55000, 'y = %d' % y, bbox=dict(fc='white', ec='k'))\n",
    "\n",
    "# Add interactivity\n",
    "def onclick(event):\n",
    "    y = event.ydata\n",
    "    hoz_line.set_ydata(event.ydata)\n",
    "    yt = np.append(yt_o, y)\n",
    "    plt.gca().set_yticks(yt)\n",
    "\n",
    "    probs = [compute_probs(y, ci) for ci in conf_ints]\n",
    "    for i in range(len(df)):\n",
    "        bars[i].set_color(cpick.to_rgba(probs[i]))\n",
    "        bars[i].set_edgecolor('gray')\n",
    "\n",
    "\n",
    "plt.gcf().canvas.mpl_connect('button_press_event', onclick)"
   ]
  },
  {
   "cell_type": "code",
   "execution_count": null,
   "metadata": {},
   "outputs": [],
   "source": []
  }
 ],
 "metadata": {
  "kernelspec": {
   "display_name": "Python 3.8.10 ('.venv': venv)",
   "language": "python",
   "name": "python3"
  },
  "language_info": {
   "codemirror_mode": {
    "name": "ipython",
    "version": 3
   },
   "file_extension": ".py",
   "mimetype": "text/x-python",
   "name": "python",
   "nbconvert_exporter": "python",
   "pygments_lexer": "ipython3",
   "version": "3.8.10"
  },
  "orig_nbformat": 4,
  "vscode": {
   "interpreter": {
    "hash": "af68814dc055104bb8074d44e4b737886ecc2fd163c4fb48867f91b5f9be7006"
   }
  }
 },
 "nbformat": 4,
 "nbformat_minor": 2
}
